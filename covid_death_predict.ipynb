{
 "cells": [
  {
   "cell_type": "code",
   "execution_count": 1,
   "metadata": {},
   "outputs": [],
   "source": [
    "import pandas as pd\n",
    "import numpy as np\n",
    "import matplotlib.pyplot as plt\n",
    "%matplotlib inline\n",
    "from sklearn.linear_model import LinearRegression"
   ]
  },
  {
   "cell_type": "code",
   "execution_count": 2,
   "metadata": {},
   "outputs": [],
   "source": [
    "bd = pd.read_csv(\"COVID-19-Bangladesh.csv\")"
   ]
  },
  {
   "cell_type": "code",
   "execution_count": 5,
   "metadata": {},
   "outputs": [],
   "source": [
    "bd.insert(loc=0, column = \"Day\", value = np.arange(len(bd)))"
   ]
  },
  {
   "cell_type": "code",
   "execution_count": 17,
   "metadata": {},
   "outputs": [
    {
     "data": {
      "text/html": [
       "<div>\n",
       "<style scoped>\n",
       "    .dataframe tbody tr th:only-of-type {\n",
       "        vertical-align: middle;\n",
       "    }\n",
       "\n",
       "    .dataframe tbody tr th {\n",
       "        vertical-align: top;\n",
       "    }\n",
       "\n",
       "    .dataframe thead th {\n",
       "        text-align: right;\n",
       "    }\n",
       "</style>\n",
       "<table border=\"1\" class=\"dataframe\">\n",
       "  <thead>\n",
       "    <tr style=\"text-align: right;\">\n",
       "      <th></th>\n",
       "      <th>Day</th>\n",
       "      <th>date</th>\n",
       "      <th>total_confirmed</th>\n",
       "      <th>total_recovered</th>\n",
       "      <th>total_deaths</th>\n",
       "      <th>daily_collected_sample</th>\n",
       "      <th>infectionRate(%)</th>\n",
       "      <th>recoveryRate(%)</th>\n",
       "      <th>mortalityRate(%)</th>\n",
       "      <th>total_quarantine</th>\n",
       "      <th>now_in_quarantine</th>\n",
       "      <th>released_from_quarantine</th>\n",
       "    </tr>\n",
       "  </thead>\n",
       "  <tbody>\n",
       "    <tr>\n",
       "      <th>41</th>\n",
       "      <td>41</td>\n",
       "      <td>2020-04-14</td>\n",
       "      <td>1012</td>\n",
       "      <td>42</td>\n",
       "      <td>46</td>\n",
       "      <td>1905</td>\n",
       "      <td>10.97</td>\n",
       "      <td>4.15</td>\n",
       "      <td>4.55</td>\n",
       "      <td>93199</td>\n",
       "      <td>28884</td>\n",
       "      <td>64315</td>\n",
       "    </tr>\n",
       "    <tr>\n",
       "      <th>42</th>\n",
       "      <td>42</td>\n",
       "      <td>2020-04-15</td>\n",
       "      <td>1231</td>\n",
       "      <td>49</td>\n",
       "      <td>50</td>\n",
       "      <td>1740</td>\n",
       "      <td>12.59</td>\n",
       "      <td>3.98</td>\n",
       "      <td>4.06</td>\n",
       "      <td>104969</td>\n",
       "      <td>39389</td>\n",
       "      <td>65580</td>\n",
       "    </tr>\n",
       "    <tr>\n",
       "      <th>43</th>\n",
       "      <td>43</td>\n",
       "      <td>2020-04-16</td>\n",
       "      <td>1572</td>\n",
       "      <td>49</td>\n",
       "      <td>60</td>\n",
       "      <td>2135</td>\n",
       "      <td>15.97</td>\n",
       "      <td>3.12</td>\n",
       "      <td>3.82</td>\n",
       "      <td>103079</td>\n",
       "      <td>36574</td>\n",
       "      <td>66505</td>\n",
       "    </tr>\n",
       "    <tr>\n",
       "      <th>44</th>\n",
       "      <td>44</td>\n",
       "      <td>2020-04-17</td>\n",
       "      <td>1838</td>\n",
       "      <td>58</td>\n",
       "      <td>75</td>\n",
       "      <td>2190</td>\n",
       "      <td>12.15</td>\n",
       "      <td>3.16</td>\n",
       "      <td>4.08</td>\n",
       "      <td>0</td>\n",
       "      <td>0</td>\n",
       "      <td>0</td>\n",
       "    </tr>\n",
       "    <tr>\n",
       "      <th>45</th>\n",
       "      <td>45</td>\n",
       "      <td>2020-04-18</td>\n",
       "      <td>2144</td>\n",
       "      <td>66</td>\n",
       "      <td>84</td>\n",
       "      <td>2114</td>\n",
       "      <td>14.47</td>\n",
       "      <td>3.08</td>\n",
       "      <td>3.92</td>\n",
       "      <td>0</td>\n",
       "      <td>0</td>\n",
       "      <td>0</td>\n",
       "    </tr>\n",
       "  </tbody>\n",
       "</table>\n",
       "</div>"
      ],
      "text/plain": [
       "    Day        date  total_confirmed  total_recovered  total_deaths  \\\n",
       "41   41  2020-04-14             1012               42            46   \n",
       "42   42  2020-04-15             1231               49            50   \n",
       "43   43  2020-04-16             1572               49            60   \n",
       "44   44  2020-04-17             1838               58            75   \n",
       "45   45  2020-04-18             2144               66            84   \n",
       "\n",
       "    daily_collected_sample  infectionRate(%)  recoveryRate(%)  \\\n",
       "41                    1905             10.97             4.15   \n",
       "42                    1740             12.59             3.98   \n",
       "43                    2135             15.97             3.12   \n",
       "44                    2190             12.15             3.16   \n",
       "45                    2114             14.47             3.08   \n",
       "\n",
       "    mortalityRate(%)  total_quarantine  now_in_quarantine  \\\n",
       "41              4.55             93199              28884   \n",
       "42              4.06            104969              39389   \n",
       "43              3.82            103079              36574   \n",
       "44              4.08                 0                  0   \n",
       "45              3.92                 0                  0   \n",
       "\n",
       "    released_from_quarantine  \n",
       "41                     64315  \n",
       "42                     65580  \n",
       "43                     66505  \n",
       "44                         0  \n",
       "45                         0  "
      ]
     },
     "execution_count": 17,
     "metadata": {},
     "output_type": "execute_result"
    }
   ],
   "source": [
    "bd.tail()"
   ]
  },
  {
   "cell_type": "code",
   "execution_count": 20,
   "metadata": {},
   "outputs": [
    {
     "data": {
      "text/plain": [
       "(46, 9)"
      ]
     },
     "execution_count": 20,
     "metadata": {},
     "output_type": "execute_result"
    }
   ],
   "source": [
    "bd.shape"
   ]
  },
  {
   "cell_type": "code",
   "execution_count": 12,
   "metadata": {},
   "outputs": [
    {
     "data": {
      "text/plain": [
       "Index(['Day', 'date', 'total_confirmed', 'total_recovered', 'total_deaths',\n",
       "       'new_confirmed', 'new_deaths', 'active', 'daily_collected_sample',\n",
       "       'infectionRate(%)', 'recoveryRate(%)', 'mortalityRate(%)',\n",
       "       'total_quarantine', 'now_in_quarantine', 'released_from_quarantine'],\n",
       "      dtype='object')"
      ]
     },
     "execution_count": 12,
     "metadata": {},
     "output_type": "execute_result"
    }
   ],
   "source": [
    "bd.columns"
   ]
  },
  {
   "cell_type": "code",
   "execution_count": 15,
   "metadata": {},
   "outputs": [],
   "source": [
    "bd.drop(['new_confirmed', 'new_deaths', 'active'], axis=1, inplace = True)"
   ]
  },
  {
   "cell_type": "code",
   "execution_count": 18,
   "metadata": {},
   "outputs": [],
   "source": [
    "bd.drop(['total_quarantine', 'now_in_quarantine', 'released_from_quarantine'], axis=1, inplace = True)"
   ]
  },
  {
   "cell_type": "code",
   "execution_count": 19,
   "metadata": {},
   "outputs": [
    {
     "data": {
      "text/plain": [
       "Day                         int64\n",
       "date                       object\n",
       "total_confirmed             int64\n",
       "total_recovered             int64\n",
       "total_deaths                int64\n",
       "daily_collected_sample      int64\n",
       "infectionRate(%)          float64\n",
       "recoveryRate(%)           float64\n",
       "mortalityRate(%)          float64\n",
       "dtype: object"
      ]
     },
     "execution_count": 19,
     "metadata": {},
     "output_type": "execute_result"
    }
   ],
   "source": [
    "bd.dtypes"
   ]
  },
  {
   "cell_type": "code",
   "execution_count": 21,
   "metadata": {},
   "outputs": [
    {
     "data": {
      "text/html": [
       "<div>\n",
       "<style scoped>\n",
       "    .dataframe tbody tr th:only-of-type {\n",
       "        vertical-align: middle;\n",
       "    }\n",
       "\n",
       "    .dataframe tbody tr th {\n",
       "        vertical-align: top;\n",
       "    }\n",
       "\n",
       "    .dataframe thead th {\n",
       "        text-align: right;\n",
       "    }\n",
       "</style>\n",
       "<table border=\"1\" class=\"dataframe\">\n",
       "  <thead>\n",
       "    <tr style=\"text-align: right;\">\n",
       "      <th></th>\n",
       "      <th>Day</th>\n",
       "      <th>total_confirmed</th>\n",
       "      <th>total_recovered</th>\n",
       "      <th>total_deaths</th>\n",
       "      <th>daily_collected_sample</th>\n",
       "      <th>infectionRate(%)</th>\n",
       "      <th>recoveryRate(%)</th>\n",
       "      <th>mortalityRate(%)</th>\n",
       "    </tr>\n",
       "  </thead>\n",
       "  <tbody>\n",
       "    <tr>\n",
       "      <th>Day</th>\n",
       "      <td>1.000000</td>\n",
       "      <td>0.692949</td>\n",
       "      <td>0.942497</td>\n",
       "      <td>0.783610</td>\n",
       "      <td>0.819556</td>\n",
       "      <td>0.221756</td>\n",
       "      <td>-0.086086</td>\n",
       "      <td>0.487595</td>\n",
       "    </tr>\n",
       "    <tr>\n",
       "      <th>total_confirmed</th>\n",
       "      <td>0.692949</td>\n",
       "      <td>1.000000</td>\n",
       "      <td>0.828693</td>\n",
       "      <td>0.985084</td>\n",
       "      <td>0.931000</td>\n",
       "      <td>0.357802</td>\n",
       "      <td>-0.379410</td>\n",
       "      <td>-0.092185</td>\n",
       "    </tr>\n",
       "    <tr>\n",
       "      <th>total_recovered</th>\n",
       "      <td>0.942497</td>\n",
       "      <td>0.828693</td>\n",
       "      <td>1.000000</td>\n",
       "      <td>0.896010</td>\n",
       "      <td>0.907159</td>\n",
       "      <td>0.240700</td>\n",
       "      <td>-0.181974</td>\n",
       "      <td>0.265305</td>\n",
       "    </tr>\n",
       "    <tr>\n",
       "      <th>total_deaths</th>\n",
       "      <td>0.783610</td>\n",
       "      <td>0.985084</td>\n",
       "      <td>0.896010</td>\n",
       "      <td>1.000000</td>\n",
       "      <td>0.969401</td>\n",
       "      <td>0.347668</td>\n",
       "      <td>-0.381724</td>\n",
       "      <td>-0.007195</td>\n",
       "    </tr>\n",
       "    <tr>\n",
       "      <th>daily_collected_sample</th>\n",
       "      <td>0.819556</td>\n",
       "      <td>0.931000</td>\n",
       "      <td>0.907159</td>\n",
       "      <td>0.969401</td>\n",
       "      <td>1.000000</td>\n",
       "      <td>0.353450</td>\n",
       "      <td>-0.392702</td>\n",
       "      <td>-0.005252</td>\n",
       "    </tr>\n",
       "    <tr>\n",
       "      <th>infectionRate(%)</th>\n",
       "      <td>0.221756</td>\n",
       "      <td>0.357802</td>\n",
       "      <td>0.240700</td>\n",
       "      <td>0.347668</td>\n",
       "      <td>0.353450</td>\n",
       "      <td>1.000000</td>\n",
       "      <td>-0.378529</td>\n",
       "      <td>-0.113218</td>\n",
       "    </tr>\n",
       "    <tr>\n",
       "      <th>recoveryRate(%)</th>\n",
       "      <td>-0.086086</td>\n",
       "      <td>-0.379410</td>\n",
       "      <td>-0.181974</td>\n",
       "      <td>-0.381724</td>\n",
       "      <td>-0.392702</td>\n",
       "      <td>-0.378529</td>\n",
       "      <td>1.000000</td>\n",
       "      <td>0.238009</td>\n",
       "    </tr>\n",
       "    <tr>\n",
       "      <th>mortalityRate(%)</th>\n",
       "      <td>0.487595</td>\n",
       "      <td>-0.092185</td>\n",
       "      <td>0.265305</td>\n",
       "      <td>-0.007195</td>\n",
       "      <td>-0.005252</td>\n",
       "      <td>-0.113218</td>\n",
       "      <td>0.238009</td>\n",
       "      <td>1.000000</td>\n",
       "    </tr>\n",
       "  </tbody>\n",
       "</table>\n",
       "</div>"
      ],
      "text/plain": [
       "                             Day  total_confirmed  total_recovered  \\\n",
       "Day                     1.000000         0.692949         0.942497   \n",
       "total_confirmed         0.692949         1.000000         0.828693   \n",
       "total_recovered         0.942497         0.828693         1.000000   \n",
       "total_deaths            0.783610         0.985084         0.896010   \n",
       "daily_collected_sample  0.819556         0.931000         0.907159   \n",
       "infectionRate(%)        0.221756         0.357802         0.240700   \n",
       "recoveryRate(%)        -0.086086        -0.379410        -0.181974   \n",
       "mortalityRate(%)        0.487595        -0.092185         0.265305   \n",
       "\n",
       "                        total_deaths  daily_collected_sample  \\\n",
       "Day                         0.783610                0.819556   \n",
       "total_confirmed             0.985084                0.931000   \n",
       "total_recovered             0.896010                0.907159   \n",
       "total_deaths                1.000000                0.969401   \n",
       "daily_collected_sample      0.969401                1.000000   \n",
       "infectionRate(%)            0.347668                0.353450   \n",
       "recoveryRate(%)            -0.381724               -0.392702   \n",
       "mortalityRate(%)           -0.007195               -0.005252   \n",
       "\n",
       "                        infectionRate(%)  recoveryRate(%)  mortalityRate(%)  \n",
       "Day                             0.221756        -0.086086          0.487595  \n",
       "total_confirmed                 0.357802        -0.379410         -0.092185  \n",
       "total_recovered                 0.240700        -0.181974          0.265305  \n",
       "total_deaths                    0.347668        -0.381724         -0.007195  \n",
       "daily_collected_sample          0.353450        -0.392702         -0.005252  \n",
       "infectionRate(%)                1.000000        -0.378529         -0.113218  \n",
       "recoveryRate(%)                -0.378529         1.000000          0.238009  \n",
       "mortalityRate(%)               -0.113218         0.238009          1.000000  "
      ]
     },
     "execution_count": 21,
     "metadata": {},
     "output_type": "execute_result"
    }
   ],
   "source": [
    "bd.corr()"
   ]
  },
  {
   "cell_type": "code",
   "execution_count": 22,
   "metadata": {},
   "outputs": [
    {
     "data": {
      "text/plain": [
       "LinearRegression(copy_X=True, fit_intercept=True, n_jobs=None, normalize=False)"
      ]
     },
     "execution_count": 22,
     "metadata": {},
     "output_type": "execute_result"
    }
   ],
   "source": [
    "lm = LinearRegression()\n",
    "lm"
   ]
  },
  {
   "cell_type": "code",
   "execution_count": 24,
   "metadata": {},
   "outputs": [
    {
     "data": {
      "text/plain": [
       "LinearRegression(copy_X=True, fit_intercept=True, n_jobs=None, normalize=False)"
      ]
     },
     "execution_count": 24,
     "metadata": {},
     "output_type": "execute_result"
    }
   ],
   "source": [
    "Y= bd[\"total_deaths\"]\n",
    "X = bd[[\"total_confirmed\"]]\n",
    "lm.fit(X,Y)"
   ]
  },
  {
   "cell_type": "code",
   "execution_count": 26,
   "metadata": {},
   "outputs": [],
   "source": [
    "Yhat = lm.predict(X)"
   ]
  },
  {
   "cell_type": "code",
   "execution_count": 27,
   "metadata": {},
   "outputs": [
    {
     "data": {
      "text/plain": [
       "array([2.73164239, 2.73164239, 2.73164239, 2.73164239, 2.85154706])"
      ]
     },
     "execution_count": 27,
     "metadata": {},
     "output_type": "execute_result"
    }
   ],
   "source": [
    "Yhat[0:5]"
   ]
  },
  {
   "cell_type": "code",
   "execution_count": 28,
   "metadata": {},
   "outputs": [
    {
     "data": {
      "text/plain": [
       "2.7316423915532226"
      ]
     },
     "execution_count": 28,
     "metadata": {},
     "output_type": "execute_result"
    }
   ],
   "source": [
    "lm.intercept_"
   ]
  },
  {
   "cell_type": "code",
   "execution_count": 30,
   "metadata": {},
   "outputs": [
    {
     "data": {
      "text/plain": [
       "array([0.03996822])"
      ]
     },
     "execution_count": 30,
     "metadata": {},
     "output_type": "execute_result"
    }
   ],
   "source": [
    "lm.coef_"
   ]
  },
  {
   "cell_type": "code",
   "execution_count": 31,
   "metadata": {},
   "outputs": [],
   "source": [
    "# 𝑌ℎ𝑎𝑡=𝑎 + 𝑏𝑋, where 'a' refers to the intercept of the regression line0, in other words: the value of Y when X is 0;\n",
    "# --> 'b' refers to the slope of the regression line, in other words: the value with which Y changes when X increases by 1 unit"
   ]
  },
  {
   "cell_type": "code",
   "execution_count": 33,
   "metadata": {},
   "outputs": [],
   "source": [
    "bd.to_csv('linear_model_of_covid_death.csv')"
   ]
  },
  {
   "cell_type": "code",
   "execution_count": null,
   "metadata": {},
   "outputs": [],
   "source": []
  }
 ],
 "metadata": {
  "kernelspec": {
   "display_name": "Python 3",
   "language": "python",
   "name": "python3"
  },
  "language_info": {
   "codemirror_mode": {
    "name": "ipython",
    "version": 3
   },
   "file_extension": ".py",
   "mimetype": "text/x-python",
   "name": "python",
   "nbconvert_exporter": "python",
   "pygments_lexer": "ipython3",
   "version": "3.7.6"
  }
 },
 "nbformat": 4,
 "nbformat_minor": 4
}
